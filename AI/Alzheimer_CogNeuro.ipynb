{
  "nbformat": 4,
  "nbformat_minor": 0,
  "metadata": {
    "colab": {
      "name": "Alzheimer_CogNeuro.ipynb",
      "provenance": [],
      "collapsed_sections": []
    },
    "kernelspec": {
      "name": "python3",
      "display_name": "Python 3"
    },
    "accelerator": "GPU"
  },
  "cells": [
    {
      "cell_type": "code",
      "metadata": {
        "id": "NgNgSlaogywC",
        "colab": {
          "base_uri": "https://localhost:8080/"
        },
        "outputId": "85ce738d-412b-42e9-ecb3-37b985a7d5cd"
      },
      "source": [
        "!git clone https://github.com/ufoym/imbalanced-dataset-sampler"
      ],
      "execution_count": null,
      "outputs": [
        {
          "output_type": "stream",
          "text": [
            "Cloning into 'imbalanced-dataset-sampler'...\n",
            "remote: Enumerating objects: 4, done.\u001b[K\n",
            "remote: Counting objects: 100% (4/4), done.\u001b[K\n",
            "remote: Compressing objects: 100% (4/4), done.\u001b[K\n",
            "remote: Total 38 (delta 0), reused 0 (delta 0), pack-reused 34\u001b[K\n",
            "Unpacking objects: 100% (38/38), done.\n"
          ],
          "name": "stdout"
        }
      ]
    },
    {
      "cell_type": "code",
      "metadata": {
        "id": "7j9awKWgh8VP",
        "colab": {
          "base_uri": "https://localhost:8080/"
        },
        "outputId": "f68f7bbe-ff3f-4c2c-e267-39fce120bee9"
      },
      "source": [
        "%ls"
      ],
      "execution_count": null,
      "outputs": [
        {
          "output_type": "stream",
          "text": [
            "\u001b[0m\u001b[01;34mdrive\u001b[0m/  \u001b[01;34mimbalanced-dataset-sampler\u001b[0m/  \u001b[01;34msample_data\u001b[0m/\n"
          ],
          "name": "stdout"
        }
      ]
    },
    {
      "cell_type": "code",
      "metadata": {
        "id": "IKmODKmbh-aY",
        "colab": {
          "base_uri": "https://localhost:8080/"
        },
        "outputId": "97383ce2-3073-4f19-9301-481aad261ac0"
      },
      "source": [
        "!pwd"
      ],
      "execution_count": null,
      "outputs": [
        {
          "output_type": "stream",
          "text": [
            "/content\n"
          ],
          "name": "stdout"
        }
      ]
    },
    {
      "cell_type": "code",
      "metadata": {
        "id": "t8JOzTCuiCog",
        "colab": {
          "base_uri": "https://localhost:8080/"
        },
        "outputId": "c8837cca-2ec2-45d2-d841-b046ad2a38b8"
      },
      "source": [
        "%cd /content/imbalanced-dataset-sampler"
      ],
      "execution_count": null,
      "outputs": [
        {
          "output_type": "stream",
          "text": [
            "/content/imbalanced-dataset-sampler\n"
          ],
          "name": "stdout"
        }
      ]
    },
    {
      "cell_type": "code",
      "metadata": {
        "id": "lhOCO3fZiF_F",
        "colab": {
          "base_uri": "https://localhost:8080/"
        },
        "outputId": "b2910bc5-4a2f-4667-8a5d-14195016f3d4"
      },
      "source": [
        "!pip install ."
      ],
      "execution_count": null,
      "outputs": [
        {
          "output_type": "stream",
          "text": [
            "Processing /content/imbalanced-dataset-sampler\n",
            "Requirement already satisfied: torch in /usr/local/lib/python3.6/dist-packages (from torchsampler==0.1) (1.7.0+cu101)\n",
            "Requirement already satisfied: torchvision in /usr/local/lib/python3.6/dist-packages (from torchsampler==0.1) (0.8.1+cu101)\n",
            "Requirement already satisfied: future in /usr/local/lib/python3.6/dist-packages (from torch->torchsampler==0.1) (0.16.0)\n",
            "Requirement already satisfied: typing-extensions in /usr/local/lib/python3.6/dist-packages (from torch->torchsampler==0.1) (3.7.4.3)\n",
            "Requirement already satisfied: dataclasses in /usr/local/lib/python3.6/dist-packages (from torch->torchsampler==0.1) (0.7)\n",
            "Requirement already satisfied: numpy in /usr/local/lib/python3.6/dist-packages (from torch->torchsampler==0.1) (1.18.5)\n",
            "Requirement already satisfied: pillow>=4.1.1 in /usr/local/lib/python3.6/dist-packages (from torchvision->torchsampler==0.1) (7.0.0)\n",
            "Building wheels for collected packages: torchsampler\n",
            "  Building wheel for torchsampler (setup.py) ... \u001b[?25l\u001b[?25hdone\n",
            "  Created wheel for torchsampler: filename=torchsampler-0.1-cp36-none-any.whl size=3646 sha256=ec88577a99d37607c1593828668bf52f52479d8e5d1dd36db770be9d4f15709f\n",
            "  Stored in directory: /root/.cache/pip/wheels/38/2b/6a/c92da1292ef596800afc50058a85ca91c768176288a586ecbe\n",
            "Successfully built torchsampler\n",
            "Installing collected packages: torchsampler\n",
            "Successfully installed torchsampler-0.1\n"
          ],
          "name": "stdout"
        }
      ]
    },
    {
      "cell_type": "code",
      "metadata": {
        "id": "F8Kw5ywxicCX",
        "colab": {
          "base_uri": "https://localhost:8080/"
        },
        "outputId": "f0180f38-9537-4516-a3d9-d11d77832c26"
      },
      "source": [
        "%cd .."
      ],
      "execution_count": null,
      "outputs": [
        {
          "output_type": "stream",
          "text": [
            "/content\n"
          ],
          "name": "stdout"
        }
      ]
    },
    {
      "cell_type": "code",
      "metadata": {
        "id": "XhzBjwE5m2g1"
      },
      "source": [
        "!unzip -qq '/content/drive/My Drive/archive.zip'"
      ],
      "execution_count": null,
      "outputs": []
    },
    {
      "cell_type": "code",
      "metadata": {
        "id": "rZsun6Guimp3"
      },
      "source": [
        "import torch\n",
        "import torch.nn as nn\n",
        "import torch.nn.functional as F\n",
        "import torch.optim as optim\n",
        "import torch.utils.data as data\n",
        "\n",
        "import torchvision.transforms as transforms\n",
        "import torchvision.datasets as datasets\n"
      ],
      "execution_count": null,
      "outputs": []
    },
    {
      "cell_type": "code",
      "metadata": {
        "id": "CZzgson8jmPc"
      },
      "source": [
        "from sklearn import decomposition\n",
        "from sklearn import manifold\n",
        "from sklearn.metrics import confusion_matrix\n",
        "from sklearn.metrics import ConfusionMatrixDisplay\n",
        "import matplotlib.pyplot as plt\n",
        "import numpy as np\n",
        "\n"
      ],
      "execution_count": null,
      "outputs": []
    },
    {
      "cell_type": "code",
      "metadata": {
        "id": "siYZPPosjoa5"
      },
      "source": [
        "import copy\n",
        "import random\n",
        "import time"
      ],
      "execution_count": null,
      "outputs": []
    },
    {
      "cell_type": "code",
      "metadata": {
        "id": "rQXRvqK-jqmR"
      },
      "source": [
        "SEED = 1234 #initializing seed for reproducing the results\n",
        "\n",
        "random.seed(SEED)\n",
        "np.random.seed(SEED)\n",
        "torch.manual_seed(SEED)\n",
        "torch.cuda.manual_seed(SEED)\n",
        "torch.backends.cudnn.deterministic = True"
      ],
      "execution_count": null,
      "outputs": []
    },
    {
      "cell_type": "code",
      "metadata": {
        "id": "d3jlx-cijyDS",
        "colab": {
          "base_uri": "https://localhost:8080/"
        },
        "outputId": "e6ed3bd1-e840-4cf1-9cad-cea9f92d12d1"
      },
      "source": [
        "train_transforms = transforms.Compose([\n",
        "                            transforms.Grayscale(num_output_channels=1),\n",
        "                            transforms.Resize(224),\n",
        "                            transforms.ToTensor()\n",
        "                                      ])\n",
        "train_data = datasets.ImageFolder(root = '/content/Alzheimer_s Dataset/train',transform=train_transforms)\n",
        "RATIO = 0.7 #Ratio used for train, valid and test split\n",
        "n_train_examples = int(len(train_data) * RATIO)\n",
        "n_orginalvalid_examples = len(train_data) - n_train_examples\n",
        "n_valid_examples = int((n_orginalvalid_examples)*0.5)\n",
        "n_test_examples = n_orginalvalid_examples - n_valid_examples\n",
        "print(n_train_examples)\n",
        "print(n_valid_examples)\n",
        "print(n_test_examples)\n",
        "\n",
        "train_data, valid_data, test_data = data.random_split(train_data, \n",
        "                                           [n_train_examples, n_valid_examples, n_test_examples])"
      ],
      "execution_count": null,
      "outputs": [
        {
          "output_type": "stream",
          "text": [
            "3584\n",
            "768\n",
            "769\n"
          ],
          "name": "stdout"
        }
      ]
    },
    {
      "cell_type": "code",
      "metadata": {
        "id": "44gn1nukj0lz"
      },
      "source": [
        "class NeuralNet(nn.Module):   #making our custom Neural Network for classification\n",
        "    def __init__(self, output_dim):\n",
        "        super().__init__()\n",
        "\n",
        "        self.conv1 = nn.Conv2d(in_channels = 1, \n",
        "                               out_channels = 3, \n",
        "                               kernel_size = 5)\n",
        "        \n",
        "        self.conv2 = nn.Conv2d(in_channels = 3, \n",
        "                               out_channels = 3, \n",
        "                               kernel_size = 5)\n",
        "        \n",
        "        \n",
        "        self.fc_1 = nn.Linear(10017, 5000)\n",
        "        self.fc_2 = nn.Linear(5000, 250)\n",
        "        self.fc_3 = nn.Linear(250, output_dim)\n",
        "\n",
        "    def forward(self, x):\n",
        "        x = self.conv1(x)\n",
        "        x = F.max_pool2d(x, kernel_size = 2)\n",
        "        x = F.relu(x)\n",
        "        x = self.conv2(x)\n",
        "        x = F.max_pool2d(x, kernel_size = 2)\n",
        "        x = F.relu(x)\n",
        "        x = x.view(x.shape[0], -1)\n",
        "        h = x\n",
        "        x = self.fc_1(x)\n",
        "        x = F.relu(x)\n",
        "        x = self.fc_2(x)\n",
        "        x = F.relu(x)\n",
        "        x = self.fc_3(x)\n",
        "        return x, h\n"
      ],
      "execution_count": null,
      "outputs": []
    },
    {
      "cell_type": "code",
      "metadata": {
        "id": "2TOp2k08j31c"
      },
      "source": [
        "OUTPUT_DIM = 4\n",
        "\n",
        "model = NeuralNet(OUTPUT_DIM)"
      ],
      "execution_count": null,
      "outputs": []
    },
    {
      "cell_type": "code",
      "metadata": {
        "id": "lyqNfA_lj9WZ",
        "colab": {
          "base_uri": "https://localhost:8080/"
        },
        "outputId": "87102f48-1b9f-49c4-cb50-1fc1e6241e9b"
      },
      "source": [
        "def count_parameters(model):\n",
        "    return sum(p.numel() for p in model.parameters() if p.requires_grad)\n",
        "\n",
        "print(f'The model has {count_parameters(model):,} trainable parameters')"
      ],
      "execution_count": null,
      "outputs": [
        {
          "output_type": "stream",
          "text": [
            "The model has 51,341,560 trainable parameters\n"
          ],
          "name": "stdout"
        }
      ]
    },
    {
      "cell_type": "code",
      "metadata": {
        "id": "1MYrVXKJj_Y8"
      },
      "source": [
        "optimizer = optim.Adam(model.parameters())"
      ],
      "execution_count": null,
      "outputs": []
    },
    {
      "cell_type": "code",
      "metadata": {
        "id": "Q-vEIZWvkOQY"
      },
      "source": [
        "from torchsampler import ImbalancedDatasetSampler #Using library to so that we can avoid data Imbalance\n"
      ],
      "execution_count": null,
      "outputs": []
    },
    {
      "cell_type": "code",
      "metadata": {
        "id": "v1l1PQbTkBrd"
      },
      "source": [
        "BATCH_SIZE=8\n",
        "train_iterator = data.DataLoader(train_data, \n",
        "                                 sampler=ImbalancedDatasetSampler(train_data),\n",
        "                                 batch_size = BATCH_SIZE)\n",
        "\n",
        "valid_iterator = data.DataLoader(valid_data, \n",
        "                                 batch_size = BATCH_SIZE)"
      ],
      "execution_count": null,
      "outputs": []
    },
    {
      "cell_type": "code",
      "metadata": {
        "id": "vfOudLL0kLWx"
      },
      "source": [
        "test_iterator = data.DataLoader(test_data, batch_size = BATCH_SIZE)"
      ],
      "execution_count": null,
      "outputs": []
    },
    {
      "cell_type": "code",
      "metadata": {
        "id": "A0wK1CQ7k0Z1"
      },
      "source": [
        "optimizer = optim.Adam(model.parameters(),lr=0.001)"
      ],
      "execution_count": null,
      "outputs": []
    },
    {
      "cell_type": "code",
      "metadata": {
        "id": "7nkvuUTVk2oo"
      },
      "source": [
        "criterion = nn.CrossEntropyLoss()"
      ],
      "execution_count": null,
      "outputs": []
    },
    {
      "cell_type": "code",
      "metadata": {
        "id": "WmZ2b8gAk50M"
      },
      "source": [
        "device = torch.device('cuda' if torch.cuda.is_available() else 'cpu') #We recommend to switch GPU on for faster training time but training using cpu also possible"
      ],
      "execution_count": null,
      "outputs": []
    },
    {
      "cell_type": "code",
      "metadata": {
        "id": "D2GwTrErk7n3"
      },
      "source": [
        "model = model.to(device)\n",
        "criterion = criterion.to(device)"
      ],
      "execution_count": null,
      "outputs": []
    },
    {
      "cell_type": "code",
      "metadata": {
        "id": "UAjIFG6unvN_",
        "colab": {
          "base_uri": "https://localhost:8080/"
        },
        "outputId": "0e255dcf-af40-41c9-9fbf-c070d08ef371"
      },
      "source": [
        "device  #Ensuring CUDA is on"
      ],
      "execution_count": null,
      "outputs": [
        {
          "output_type": "execute_result",
          "data": {
            "text/plain": [
              "device(type='cuda')"
            ]
          },
          "metadata": {
            "tags": []
          },
          "execution_count": 24
        }
      ]
    },
    {
      "cell_type": "code",
      "metadata": {
        "id": "ykcUdMjNnyDN"
      },
      "source": [
        "def calculate_accuracy(y_pred, y):\n",
        "    top_pred = y_pred.argmax(1, keepdim = True)\n",
        "    correct = top_pred.eq(y.view_as(top_pred)).sum()\n",
        "    acc = correct.float() / y.shape[0]\n",
        "    return acc"
      ],
      "execution_count": null,
      "outputs": []
    },
    {
      "cell_type": "code",
      "metadata": {
        "id": "CxVafEXgnzn8"
      },
      "source": [
        "#We used different function for finding training(Finding train loss and accuracy), Valid(Finding valid loss and accuracy) so that code is more legible \n",
        "def train(model, iterator, optimizer, criterion, device):\n",
        "    \n",
        "    epoch_loss = 0\n",
        "    epoch_acc = 0\n",
        "    \n",
        "    model.train()\n",
        "    \n",
        "    for (x, y) in iterator:\n",
        "        \n",
        "        x = x.to(device)\n",
        "        y = y.to(device)\n",
        "        \n",
        "        optimizer.zero_grad()\n",
        "                \n",
        "        y_pred, _ = model(x)\n",
        "        \n",
        "        loss = criterion(y_pred, y)\n",
        "        \n",
        "        acc = calculate_accuracy(y_pred, y)\n",
        "        \n",
        "        loss.backward()\n",
        "        \n",
        "        optimizer.step()\n",
        "        \n",
        "        epoch_loss += loss.item()\n",
        "        epoch_acc += acc.item()\n",
        "        \n",
        "    return epoch_loss / len(iterator), epoch_acc / len(iterator)\n",
        "\n",
        "def evaluate(model, iterator, criterion, device):\n",
        "    \n",
        "    epoch_loss = 0\n",
        "    epoch_acc = 0\n",
        "    \n",
        "    model.eval()\n",
        "    \n",
        "    with torch.no_grad():\n",
        "        \n",
        "        for (x, y) in iterator:\n",
        "\n",
        "            x = x.to(device)\n",
        "            y = y.to(device)\n",
        "\n",
        "            y_pred, _ = model(x)\n",
        "\n",
        "            loss = criterion(y_pred, y)\n",
        "\n",
        "            acc = calculate_accuracy(y_pred, y)\n",
        "\n",
        "            epoch_loss += loss.item()\n",
        "            epoch_acc += acc.item()\n",
        "        \n",
        "    return epoch_loss / len(iterator), epoch_acc / len(iterator)\n",
        "\n",
        "\n",
        "def epoch_time(start_time, end_time): #function for keeping track of training time\n",
        "    elapsed_time = end_time - start_time\n",
        "    elapsed_mins = int(elapsed_time / 60)\n",
        "    elapsed_secs = int(elapsed_time - (elapsed_mins * 60))\n",
        "    return elapsed_mins, elapsed_secs\n",
        "\n",
        "\n",
        "\n"
      ],
      "execution_count": null,
      "outputs": []
    },
    {
      "cell_type": "code",
      "metadata": {
        "id": "k9XA0IRwn1b6"
      },
      "source": [
        "#List used to store all losses and accuracy. This will be used for plotting the graph\n",
        "plot_val_acc=[]\n",
        "plot_train_acc=[]\n",
        "\n",
        "plot_train_loss=[]\n",
        "plot_val_loss=[]\n"
      ],
      "execution_count": null,
      "outputs": []
    },
    {
      "cell_type": "code",
      "metadata": {
        "id": "9OAlSisCr4MZ"
      },
      "source": [
        "epoch_x_axis=[i for i in range(0,100)]"
      ],
      "execution_count": null,
      "outputs": []
    },
    {
      "cell_type": "code",
      "metadata": {
        "id": "DPrJiWJkn3iB",
        "colab": {
          "base_uri": "https://localhost:8080/"
        },
        "outputId": "df2cf416-c1dd-4019-9e70-ee3fc2dfe948"
      },
      "source": [
        "EPOCHS = 100\n",
        "\n",
        "best_valid_loss = float('inf')\n",
        "\n",
        "for epoch in range(EPOCHS):\n",
        "    \n",
        "    start_time = time.time()\n",
        "    \n",
        "    train_loss, train_acc = train(model, train_iterator, optimizer, criterion, device)\n",
        "    valid_loss, valid_acc = evaluate(model, valid_iterator, criterion, device)\n",
        "    \n",
        "    #We use the given 3 lines of code to store the best model\n",
        "    if valid_loss < best_valid_loss:\n",
        "        best_valid_loss = valid_loss\n",
        "        torch.save(model.state_dict(), 'tut2-model.pt')\n",
        "    \n",
        "    end_time = time.time()\n",
        "\n",
        "    epoch_mins, epoch_secs = epoch_time(start_time, end_time)\n",
        "    \n",
        "    print(f'Epoch: {epoch+1:02} | Epoch Time: {epoch_mins}m {epoch_secs}s')\n",
        "    print(f'\\tTrain Loss: {train_loss:.3f} | Train Acc: {train_acc*100:.2f}%')\n",
        "    print(f'\\t Val. Loss: {valid_loss:.3f} |  Val. Acc: {valid_acc*100:.2f}%')\n",
        "    plot_val_acc.append(valid_acc)\n",
        "    plot_train_acc.append(train_acc)\n",
        "\n",
        "    plot_train_loss.append(train_loss)\n",
        "    plot_val_loss.append(valid_loss)\n",
        "    "
      ],
      "execution_count": null,
      "outputs": [
        {
          "output_type": "stream",
          "text": [
            "Epoch: 01 | Epoch Time: 0m 19s\n",
            "\tTrain Loss: 1.018 | Train Acc: 52.96%\n",
            "\t Val. Loss: 0.930 |  Val. Acc: 56.38%\n",
            "Epoch: 02 | Epoch Time: 0m 18s\n",
            "\tTrain Loss: 0.599 | Train Acc: 74.67%\n",
            "\t Val. Loss: 0.744 |  Val. Acc: 66.15%\n",
            "Epoch: 03 | Epoch Time: 0m 18s\n",
            "\tTrain Loss: 0.268 | Train Acc: 90.09%\n",
            "\t Val. Loss: 0.565 |  Val. Acc: 79.56%\n",
            "Epoch: 04 | Epoch Time: 0m 18s\n",
            "\tTrain Loss: 0.158 | Train Acc: 94.67%\n",
            "\t Val. Loss: 0.337 |  Val. Acc: 85.81%\n",
            "Epoch: 05 | Epoch Time: 0m 18s\n",
            "\tTrain Loss: 0.089 | Train Acc: 97.15%\n",
            "\t Val. Loss: 0.393 |  Val. Acc: 87.89%\n",
            "Epoch: 06 | Epoch Time: 0m 18s\n",
            "\tTrain Loss: 0.066 | Train Acc: 97.68%\n",
            "\t Val. Loss: 0.361 |  Val. Acc: 88.54%\n",
            "Epoch: 07 | Epoch Time: 0m 18s\n",
            "\tTrain Loss: 0.047 | Train Acc: 98.41%\n",
            "\t Val. Loss: 0.257 |  Val. Acc: 90.10%\n",
            "Epoch: 08 | Epoch Time: 0m 18s\n",
            "\tTrain Loss: 0.043 | Train Acc: 98.69%\n",
            "\t Val. Loss: 0.318 |  Val. Acc: 89.06%\n",
            "Epoch: 09 | Epoch Time: 0m 18s\n",
            "\tTrain Loss: 0.034 | Train Acc: 98.88%\n",
            "\t Val. Loss: 0.495 |  Val. Acc: 85.55%\n",
            "Epoch: 10 | Epoch Time: 0m 18s\n",
            "\tTrain Loss: 0.022 | Train Acc: 99.33%\n",
            "\t Val. Loss: 0.149 |  Val. Acc: 95.57%\n",
            "Epoch: 11 | Epoch Time: 0m 18s\n",
            "\tTrain Loss: 0.022 | Train Acc: 99.19%\n",
            "\t Val. Loss: 0.232 |  Val. Acc: 94.53%\n",
            "Epoch: 12 | Epoch Time: 0m 18s\n",
            "\tTrain Loss: 0.020 | Train Acc: 99.50%\n",
            "\t Val. Loss: 0.113 |  Val. Acc: 96.74%\n",
            "Epoch: 13 | Epoch Time: 0m 18s\n",
            "\tTrain Loss: 0.015 | Train Acc: 99.47%\n",
            "\t Val. Loss: 0.160 |  Val. Acc: 95.44%\n",
            "Epoch: 14 | Epoch Time: 0m 18s\n",
            "\tTrain Loss: 0.026 | Train Acc: 99.33%\n",
            "\t Val. Loss: 0.166 |  Val. Acc: 95.70%\n",
            "Epoch: 15 | Epoch Time: 0m 18s\n",
            "\tTrain Loss: 0.022 | Train Acc: 99.25%\n",
            "\t Val. Loss: 0.167 |  Val. Acc: 95.18%\n",
            "Epoch: 16 | Epoch Time: 0m 18s\n",
            "\tTrain Loss: 0.014 | Train Acc: 99.58%\n",
            "\t Val. Loss: 0.117 |  Val. Acc: 96.61%\n",
            "Epoch: 17 | Epoch Time: 0m 18s\n",
            "\tTrain Loss: 0.023 | Train Acc: 99.33%\n",
            "\t Val. Loss: 0.223 |  Val. Acc: 94.01%\n",
            "Epoch: 18 | Epoch Time: 0m 18s\n",
            "\tTrain Loss: 0.004 | Train Acc: 99.83%\n",
            "\t Val. Loss: 0.266 |  Val. Acc: 93.88%\n",
            "Epoch: 19 | Epoch Time: 0m 18s\n",
            "\tTrain Loss: 0.018 | Train Acc: 99.50%\n",
            "\t Val. Loss: 0.465 |  Val. Acc: 88.28%\n",
            "Epoch: 20 | Epoch Time: 0m 17s\n",
            "\tTrain Loss: 0.025 | Train Acc: 99.36%\n",
            "\t Val. Loss: 0.136 |  Val. Acc: 96.61%\n",
            "Epoch: 21 | Epoch Time: 0m 18s\n",
            "\tTrain Loss: 0.021 | Train Acc: 99.41%\n",
            "\t Val. Loss: 0.129 |  Val. Acc: 97.14%\n",
            "Epoch: 22 | Epoch Time: 0m 18s\n",
            "\tTrain Loss: 0.003 | Train Acc: 99.94%\n",
            "\t Val. Loss: 0.159 |  Val. Acc: 96.22%\n",
            "Epoch: 23 | Epoch Time: 0m 18s\n",
            "\tTrain Loss: 0.001 | Train Acc: 99.94%\n",
            "\t Val. Loss: 0.126 |  Val. Acc: 97.66%\n",
            "Epoch: 24 | Epoch Time: 0m 18s\n",
            "\tTrain Loss: 0.011 | Train Acc: 99.72%\n",
            "\t Val. Loss: 0.296 |  Val. Acc: 91.93%\n",
            "Epoch: 25 | Epoch Time: 0m 18s\n",
            "\tTrain Loss: 0.026 | Train Acc: 99.30%\n",
            "\t Val. Loss: 0.176 |  Val. Acc: 94.53%\n",
            "Epoch: 26 | Epoch Time: 0m 18s\n",
            "\tTrain Loss: 0.007 | Train Acc: 99.75%\n",
            "\t Val. Loss: 0.122 |  Val. Acc: 97.40%\n",
            "Epoch: 27 | Epoch Time: 0m 18s\n",
            "\tTrain Loss: 0.005 | Train Acc: 99.83%\n",
            "\t Val. Loss: 0.104 |  Val. Acc: 97.92%\n",
            "Epoch: 28 | Epoch Time: 0m 18s\n",
            "\tTrain Loss: 0.025 | Train Acc: 99.33%\n",
            "\t Val. Loss: 0.115 |  Val. Acc: 96.88%\n",
            "Epoch: 29 | Epoch Time: 0m 18s\n",
            "\tTrain Loss: 0.007 | Train Acc: 99.75%\n",
            "\t Val. Loss: 0.131 |  Val. Acc: 96.74%\n",
            "Epoch: 30 | Epoch Time: 0m 18s\n",
            "\tTrain Loss: 0.007 | Train Acc: 99.80%\n",
            "\t Val. Loss: 0.102 |  Val. Acc: 97.27%\n",
            "Epoch: 31 | Epoch Time: 0m 18s\n",
            "\tTrain Loss: 0.015 | Train Acc: 99.55%\n",
            "\t Val. Loss: 0.128 |  Val. Acc: 97.53%\n",
            "Epoch: 32 | Epoch Time: 0m 18s\n",
            "\tTrain Loss: 0.005 | Train Acc: 99.86%\n",
            "\t Val. Loss: 0.087 |  Val. Acc: 98.05%\n",
            "Epoch: 33 | Epoch Time: 0m 18s\n",
            "\tTrain Loss: 0.010 | Train Acc: 99.86%\n",
            "\t Val. Loss: 0.150 |  Val. Acc: 97.27%\n",
            "Epoch: 34 | Epoch Time: 0m 18s\n",
            "\tTrain Loss: 0.027 | Train Acc: 99.44%\n",
            "\t Val. Loss: 0.110 |  Val. Acc: 97.01%\n",
            "Epoch: 35 | Epoch Time: 0m 18s\n",
            "\tTrain Loss: 0.013 | Train Acc: 99.58%\n",
            "\t Val. Loss: 0.201 |  Val. Acc: 95.57%\n",
            "Epoch: 36 | Epoch Time: 0m 18s\n",
            "\tTrain Loss: 0.013 | Train Acc: 99.58%\n",
            "\t Val. Loss: 0.112 |  Val. Acc: 97.79%\n",
            "Epoch: 37 | Epoch Time: 0m 18s\n",
            "\tTrain Loss: 0.008 | Train Acc: 99.86%\n",
            "\t Val. Loss: 0.063 |  Val. Acc: 97.79%\n",
            "Epoch: 38 | Epoch Time: 0m 18s\n",
            "\tTrain Loss: 0.000 | Train Acc: 100.00%\n",
            "\t Val. Loss: 0.047 |  Val. Acc: 98.44%\n",
            "Epoch: 39 | Epoch Time: 0m 18s\n",
            "\tTrain Loss: 0.011 | Train Acc: 99.75%\n",
            "\t Val. Loss: 0.159 |  Val. Acc: 95.57%\n",
            "Epoch: 40 | Epoch Time: 0m 17s\n",
            "\tTrain Loss: 0.022 | Train Acc: 99.58%\n",
            "\t Val. Loss: 0.096 |  Val. Acc: 97.92%\n",
            "Epoch: 41 | Epoch Time: 0m 17s\n",
            "\tTrain Loss: 0.007 | Train Acc: 99.83%\n",
            "\t Val. Loss: 0.105 |  Val. Acc: 97.79%\n",
            "Epoch: 42 | Epoch Time: 0m 17s\n",
            "\tTrain Loss: 0.006 | Train Acc: 99.78%\n",
            "\t Val. Loss: 0.158 |  Val. Acc: 97.79%\n",
            "Epoch: 43 | Epoch Time: 0m 17s\n",
            "\tTrain Loss: 0.010 | Train Acc: 99.69%\n",
            "\t Val. Loss: 0.103 |  Val. Acc: 97.14%\n",
            "Epoch: 44 | Epoch Time: 0m 17s\n",
            "\tTrain Loss: 0.017 | Train Acc: 99.47%\n",
            "\t Val. Loss: 0.235 |  Val. Acc: 95.05%\n",
            "Epoch: 45 | Epoch Time: 0m 18s\n",
            "\tTrain Loss: 0.010 | Train Acc: 99.75%\n",
            "\t Val. Loss: 0.343 |  Val. Acc: 93.10%\n",
            "Epoch: 46 | Epoch Time: 0m 18s\n",
            "\tTrain Loss: 0.013 | Train Acc: 99.80%\n",
            "\t Val. Loss: 0.129 |  Val. Acc: 98.18%\n",
            "Epoch: 47 | Epoch Time: 0m 17s\n",
            "\tTrain Loss: 0.000 | Train Acc: 100.00%\n",
            "\t Val. Loss: 0.095 |  Val. Acc: 98.44%\n",
            "Epoch: 48 | Epoch Time: 0m 17s\n",
            "\tTrain Loss: 0.000 | Train Acc: 100.00%\n",
            "\t Val. Loss: 0.216 |  Val. Acc: 97.01%\n",
            "Epoch: 49 | Epoch Time: 0m 17s\n",
            "\tTrain Loss: 0.005 | Train Acc: 99.83%\n",
            "\t Val. Loss: 0.179 |  Val. Acc: 96.09%\n",
            "Epoch: 50 | Epoch Time: 0m 17s\n",
            "\tTrain Loss: 0.000 | Train Acc: 100.00%\n",
            "\t Val. Loss: 0.117 |  Val. Acc: 97.66%\n",
            "Epoch: 51 | Epoch Time: 0m 17s\n",
            "\tTrain Loss: 0.047 | Train Acc: 98.77%\n",
            "\t Val. Loss: 0.148 |  Val. Acc: 94.92%\n",
            "Epoch: 52 | Epoch Time: 0m 17s\n",
            "\tTrain Loss: 0.010 | Train Acc: 99.72%\n",
            "\t Val. Loss: 0.132 |  Val. Acc: 97.27%\n",
            "Epoch: 53 | Epoch Time: 0m 17s\n",
            "\tTrain Loss: 0.009 | Train Acc: 99.67%\n",
            "\t Val. Loss: 0.109 |  Val. Acc: 97.66%\n",
            "Epoch: 54 | Epoch Time: 0m 17s\n",
            "\tTrain Loss: 0.000 | Train Acc: 100.00%\n",
            "\t Val. Loss: 0.094 |  Val. Acc: 98.31%\n",
            "Epoch: 55 | Epoch Time: 0m 17s\n",
            "\tTrain Loss: 0.000 | Train Acc: 100.00%\n",
            "\t Val. Loss: 0.098 |  Val. Acc: 98.31%\n",
            "Epoch: 56 | Epoch Time: 0m 17s\n",
            "\tTrain Loss: 0.000 | Train Acc: 100.00%\n",
            "\t Val. Loss: 0.098 |  Val. Acc: 98.70%\n",
            "Epoch: 57 | Epoch Time: 0m 17s\n",
            "\tTrain Loss: 0.000 | Train Acc: 100.00%\n",
            "\t Val. Loss: 0.122 |  Val. Acc: 98.31%\n",
            "Epoch: 58 | Epoch Time: 0m 17s\n",
            "\tTrain Loss: 0.024 | Train Acc: 99.47%\n",
            "\t Val. Loss: 0.092 |  Val. Acc: 97.40%\n",
            "Epoch: 59 | Epoch Time: 0m 17s\n",
            "\tTrain Loss: 0.002 | Train Acc: 99.92%\n",
            "\t Val. Loss: 0.101 |  Val. Acc: 98.44%\n",
            "Epoch: 60 | Epoch Time: 0m 17s\n",
            "\tTrain Loss: 0.000 | Train Acc: 100.00%\n",
            "\t Val. Loss: 0.094 |  Val. Acc: 98.57%\n",
            "Epoch: 61 | Epoch Time: 0m 17s\n",
            "\tTrain Loss: 0.012 | Train Acc: 99.72%\n",
            "\t Val. Loss: 0.305 |  Val. Acc: 94.14%\n",
            "Epoch: 62 | Epoch Time: 0m 17s\n",
            "\tTrain Loss: 0.009 | Train Acc: 99.69%\n",
            "\t Val. Loss: 0.104 |  Val. Acc: 97.92%\n",
            "Epoch: 63 | Epoch Time: 0m 18s\n",
            "\tTrain Loss: 0.000 | Train Acc: 100.00%\n",
            "\t Val. Loss: 0.124 |  Val. Acc: 97.66%\n",
            "Epoch: 64 | Epoch Time: 0m 17s\n",
            "\tTrain Loss: 0.000 | Train Acc: 100.00%\n",
            "\t Val. Loss: 0.102 |  Val. Acc: 98.18%\n",
            "Epoch: 65 | Epoch Time: 0m 17s\n",
            "\tTrain Loss: 0.011 | Train Acc: 99.78%\n",
            "\t Val. Loss: 0.193 |  Val. Acc: 97.14%\n",
            "Epoch: 66 | Epoch Time: 0m 17s\n",
            "\tTrain Loss: 0.011 | Train Acc: 99.67%\n",
            "\t Val. Loss: 0.163 |  Val. Acc: 96.61%\n",
            "Epoch: 67 | Epoch Time: 0m 17s\n",
            "\tTrain Loss: 0.002 | Train Acc: 99.94%\n",
            "\t Val. Loss: 0.135 |  Val. Acc: 97.53%\n",
            "Epoch: 68 | Epoch Time: 0m 17s\n",
            "\tTrain Loss: 0.004 | Train Acc: 99.89%\n",
            "\t Val. Loss: 0.087 |  Val. Acc: 98.70%\n",
            "Epoch: 69 | Epoch Time: 0m 17s\n",
            "\tTrain Loss: 0.000 | Train Acc: 100.00%\n",
            "\t Val. Loss: 0.089 |  Val. Acc: 98.70%\n",
            "Epoch: 70 | Epoch Time: 0m 17s\n",
            "\tTrain Loss: 0.000 | Train Acc: 100.00%\n",
            "\t Val. Loss: 0.094 |  Val. Acc: 98.70%\n",
            "Epoch: 71 | Epoch Time: 0m 17s\n",
            "\tTrain Loss: 0.000 | Train Acc: 100.00%\n",
            "\t Val. Loss: 0.094 |  Val. Acc: 98.70%\n",
            "Epoch: 72 | Epoch Time: 0m 17s\n",
            "\tTrain Loss: 0.010 | Train Acc: 99.69%\n",
            "\t Val. Loss: 0.364 |  Val. Acc: 93.36%\n",
            "Epoch: 73 | Epoch Time: 0m 17s\n",
            "\tTrain Loss: 0.015 | Train Acc: 99.69%\n",
            "\t Val. Loss: 0.242 |  Val. Acc: 95.70%\n",
            "Epoch: 74 | Epoch Time: 0m 17s\n",
            "\tTrain Loss: 0.000 | Train Acc: 100.00%\n",
            "\t Val. Loss: 0.200 |  Val. Acc: 97.14%\n",
            "Epoch: 75 | Epoch Time: 0m 17s\n",
            "\tTrain Loss: 0.015 | Train Acc: 99.58%\n",
            "\t Val. Loss: 0.266 |  Val. Acc: 95.83%\n",
            "Epoch: 76 | Epoch Time: 0m 18s\n",
            "\tTrain Loss: 0.009 | Train Acc: 99.72%\n",
            "\t Val. Loss: 0.230 |  Val. Acc: 94.92%\n",
            "Epoch: 77 | Epoch Time: 0m 17s\n",
            "\tTrain Loss: 0.006 | Train Acc: 99.86%\n",
            "\t Val. Loss: 0.072 |  Val. Acc: 98.05%\n",
            "Epoch: 78 | Epoch Time: 0m 17s\n",
            "\tTrain Loss: 0.010 | Train Acc: 99.80%\n",
            "\t Val. Loss: 0.258 |  Val. Acc: 95.57%\n",
            "Epoch: 79 | Epoch Time: 0m 17s\n",
            "\tTrain Loss: 0.000 | Train Acc: 100.00%\n",
            "\t Val. Loss: 0.113 |  Val. Acc: 98.18%\n",
            "Epoch: 80 | Epoch Time: 0m 18s\n",
            "\tTrain Loss: 0.011 | Train Acc: 99.75%\n",
            "\t Val. Loss: 0.101 |  Val. Acc: 97.53%\n",
            "Epoch: 81 | Epoch Time: 0m 17s\n",
            "\tTrain Loss: 0.004 | Train Acc: 99.89%\n",
            "\t Val. Loss: 0.112 |  Val. Acc: 98.05%\n",
            "Epoch: 82 | Epoch Time: 0m 17s\n",
            "\tTrain Loss: 0.000 | Train Acc: 100.00%\n",
            "\t Val. Loss: 0.071 |  Val. Acc: 98.96%\n",
            "Epoch: 83 | Epoch Time: 0m 17s\n",
            "\tTrain Loss: 0.000 | Train Acc: 100.00%\n",
            "\t Val. Loss: 0.067 |  Val. Acc: 98.70%\n",
            "Epoch: 84 | Epoch Time: 0m 17s\n",
            "\tTrain Loss: 0.000 | Train Acc: 100.00%\n",
            "\t Val. Loss: 0.056 |  Val. Acc: 98.57%\n",
            "Epoch: 85 | Epoch Time: 0m 17s\n",
            "\tTrain Loss: 0.009 | Train Acc: 99.83%\n",
            "\t Val. Loss: 0.136 |  Val. Acc: 96.35%\n",
            "Epoch: 86 | Epoch Time: 0m 17s\n",
            "\tTrain Loss: 0.008 | Train Acc: 99.78%\n",
            "\t Val. Loss: 0.137 |  Val. Acc: 97.01%\n",
            "Epoch: 87 | Epoch Time: 0m 17s\n",
            "\tTrain Loss: 0.007 | Train Acc: 99.86%\n",
            "\t Val. Loss: 0.088 |  Val. Acc: 98.18%\n",
            "Epoch: 88 | Epoch Time: 0m 17s\n",
            "\tTrain Loss: 0.000 | Train Acc: 100.00%\n",
            "\t Val. Loss: 0.078 |  Val. Acc: 98.05%\n",
            "Epoch: 89 | Epoch Time: 0m 17s\n",
            "\tTrain Loss: 0.000 | Train Acc: 100.00%\n",
            "\t Val. Loss: 0.074 |  Val. Acc: 98.31%\n",
            "Epoch: 90 | Epoch Time: 0m 17s\n",
            "\tTrain Loss: 0.000 | Train Acc: 100.00%\n",
            "\t Val. Loss: 0.077 |  Val. Acc: 98.31%\n",
            "Epoch: 91 | Epoch Time: 0m 17s\n",
            "\tTrain Loss: 0.014 | Train Acc: 99.80%\n",
            "\t Val. Loss: 0.297 |  Val. Acc: 93.10%\n",
            "Epoch: 92 | Epoch Time: 0m 17s\n",
            "\tTrain Loss: 0.013 | Train Acc: 99.72%\n",
            "\t Val. Loss: 0.143 |  Val. Acc: 97.66%\n",
            "Epoch: 93 | Epoch Time: 0m 17s\n",
            "\tTrain Loss: 0.000 | Train Acc: 100.00%\n",
            "\t Val. Loss: 0.171 |  Val. Acc: 97.79%\n",
            "Epoch: 94 | Epoch Time: 0m 17s\n",
            "\tTrain Loss: 0.005 | Train Acc: 99.86%\n",
            "\t Val. Loss: 0.342 |  Val. Acc: 95.83%\n",
            "Epoch: 95 | Epoch Time: 0m 17s\n",
            "\tTrain Loss: 0.002 | Train Acc: 99.92%\n",
            "\t Val. Loss: 0.236 |  Val. Acc: 97.40%\n",
            "Epoch: 96 | Epoch Time: 0m 17s\n",
            "\tTrain Loss: 0.005 | Train Acc: 99.83%\n",
            "\t Val. Loss: 0.096 |  Val. Acc: 98.05%\n",
            "Epoch: 97 | Epoch Time: 0m 17s\n",
            "\tTrain Loss: 0.000 | Train Acc: 100.00%\n",
            "\t Val. Loss: 0.095 |  Val. Acc: 98.18%\n",
            "Epoch: 98 | Epoch Time: 0m 17s\n",
            "\tTrain Loss: 0.000 | Train Acc: 100.00%\n",
            "\t Val. Loss: 0.095 |  Val. Acc: 98.18%\n",
            "Epoch: 99 | Epoch Time: 0m 17s\n",
            "\tTrain Loss: 0.000 | Train Acc: 100.00%\n",
            "\t Val. Loss: 0.095 |  Val. Acc: 98.18%\n",
            "Epoch: 100 | Epoch Time: 0m 17s\n",
            "\tTrain Loss: 0.000 | Train Acc: 100.00%\n",
            "\t Val. Loss: 0.108 |  Val. Acc: 98.57%\n"
          ],
          "name": "stdout"
        }
      ]
    },
    {
      "cell_type": "code",
      "metadata": {
        "id": "jPGz0z3In6qg",
        "colab": {
          "base_uri": "https://localhost:8080/"
        },
        "outputId": "64367b10-cd70-4574-d71e-1a45ae1dcacf"
      },
      "source": [
        "model.load_state_dict(torch.load('tut2-model.pt'))\n",
        "\n",
        "test_loss, test_acc = evaluate(model, test_iterator, criterion, device)\n",
        "\n",
        "print(f'Test Loss: {test_loss:.3f} | Test Acc: {test_acc*100:.2f}%')"
      ],
      "execution_count": null,
      "outputs": [
        {
          "output_type": "stream",
          "text": [
            "Test Loss: 0.121 | Test Acc: 98.20%\n"
          ],
          "name": "stdout"
        }
      ]
    },
    {
      "cell_type": "code",
      "metadata": {
        "id": "-7rCH3vErXeb",
        "colab": {
          "base_uri": "https://localhost:8080/",
          "height": 279
        },
        "outputId": "b9f2e7fa-8877-4e77-c0c1-82f351b14eab"
      },
      "source": [
        "plt.xlabel('Epochs')\n",
        "plt.plot(epoch_x_axis,plot_train_acc,label='train_acc')\n",
        "plt.plot(epoch_x_axis,plot_val_acc,label='val_acc')\n",
        "# plt.plot(epoch_x_axis,plot_val_loss,label='val_loss')\n",
        "# plt.plot(epoch_x_axis,plot_train_loss,label='train_loss')\n",
        "plt.plot\n",
        "plt.legend()\n",
        "plt.show()"
      ],
      "execution_count": null,
      "outputs": [
        {
          "output_type": "display_data",
          "data": {
            "image/png": "[encoded data removed]",
            "text/plain": [
              "<Figure size 432x288 with 1 Axes>"
            ]
          },
          "metadata": {
            "tags": [],
            "needs_background": "light"
          }
        }
      ]
    },
    {
      "cell_type": "code",
      "metadata": {
        "id": "8ZbjrUOvSamP",
        "colab": {
          "base_uri": "https://localhost:8080/",
          "height": 279
        },
        "outputId": "c1ddc0cb-b9e4-4170-c04f-b1c3041884b5"
      },
      "source": [
        "plt.xlabel('Epochs')\n",
        "# plt.plot(epoch_x_axis,plot_train_f1,label='train_acc')\n",
        "# plt.plot(epoch_x_axis,plot_val_f1,label='train_acc')\n",
        "plt.plot(epoch_x_axis,plot_val_loss,label='val_loss')\n",
        "plt.plot(epoch_x_axis,plot_train_loss,label='train_loss')\n",
        "plt.plot\n",
        "plt.legend()\n",
        "plt.show()"
      ],
      "execution_count": null,
      "outputs": [
        {
          "output_type": "display_data",
          "data": {
            "image/png": "[encoded data removed]",
            "text/plain": [
              "<Figure size 432x288 with 1 Axes>"
            ]
          },
          "metadata": {
            "tags": [],
            "needs_background": "light"
          }
        }
      ]
    },
    {
      "cell_type": "markdown",
      "metadata": {
        "id": "am1YbmCGRvkD"
      },
      "source": [
        "The below code is used to find f1 and precision"
      ]
    },
    {
      "cell_type": "code",
      "metadata": {
        "id": "XATT2KbRbTXV"
      },
      "source": [
        "\n",
        "def get_predictions(model, iterator):\n",
        "\n",
        "    model.eval()\n",
        "\n",
        "    images = []\n",
        "    labels = []\n",
        "    probs = []\n",
        "\n",
        "    with torch.no_grad():\n",
        "\n",
        "        for (x, y) in iterator:\n",
        "\n",
        "            x = x.to(device)\n",
        "\n",
        "            y_pred, _ = model(x)\n",
        "\n",
        "            y_prob = F.softmax(y_pred, dim = -1)\n",
        "            top_pred = y_prob.argmax(1, keepdim = True)\n",
        "\n",
        "            images.append(x.cpu())\n",
        "            labels.append(y.cpu())\n",
        "            probs.append(y_prob.cpu())\n",
        "\n",
        "    images = torch.cat(images, dim = 0)\n",
        "    labels = torch.cat(labels, dim = 0)\n",
        "    probs = torch.cat(probs, dim = 0)\n",
        "\n",
        "    return images, labels, probs"
      ],
      "execution_count": null,
      "outputs": []
    },
    {
      "cell_type": "code",
      "metadata": {
        "id": "SCTdT5JXck5b"
      },
      "source": [
        "images, labels, probs = get_predictions(model, test_iterator)"
      ],
      "execution_count": null,
      "outputs": []
    },
    {
      "cell_type": "code",
      "metadata": {
        "id": "p6rp_0Arcnzx"
      },
      "source": [
        "pred_labels = torch.argmax(probs, 1)"
      ],
      "execution_count": null,
      "outputs": []
    },
    {
      "cell_type": "code",
      "metadata": {
        "id": "_8YCuStAcvVM"
      },
      "source": [
        "from sklearn.metrics import f1_score"
      ],
      "execution_count": null,
      "outputs": []
    },
    {
      "cell_type": "code",
      "metadata": {
        "id": "gkTy7QExdtHM",
        "colab": {
          "base_uri": "https://localhost:8080/"
        },
        "outputId": "1d19414e-500d-4f4f-aa81-01447ffe3ee8"
      },
      "source": [
        "f1_score(labels, pred_labels, average='micro')\n",
        "#We can see f1 is high enough to tell our model is performing well"
      ],
      "execution_count": null,
      "outputs": [
        {
          "output_type": "execute_result",
          "data": {
            "text/plain": [
              "0.9817945383615085"
            ]
          },
          "metadata": {
            "tags": []
          },
          "execution_count": 37
        }
      ]
    },
    {
      "cell_type": "code",
      "metadata": {
        "id": "hpt3hZVWd0V8"
      },
      "source": [
        "from sklearn.metrics import precision_score"
      ],
      "execution_count": null,
      "outputs": []
    },
    {
      "cell_type": "code",
      "metadata": {
        "id": "FlhoEGSZs28Z",
        "colab": {
          "base_uri": "https://localhost:8080/"
        },
        "outputId": "6c094193-95b3-4896-ec1c-3b2d0f343453"
      },
      "source": [
        "precision_score(labels, pred_labels, average='micro')\n",
        "#We can see f1 is high enough to tell our model is performing well"
      ],
      "execution_count": null,
      "outputs": [
        {
          "output_type": "execute_result",
          "data": {
            "text/plain": [
              "0.9817945383615084"
            ]
          },
          "metadata": {
            "tags": []
          },
          "execution_count": 39
        }
      ]
    }
  ]
}